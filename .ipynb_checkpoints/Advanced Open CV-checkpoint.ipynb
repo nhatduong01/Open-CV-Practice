{
 "cells": [
  {
   "cell_type": "markdown",
   "id": "ecf3d84c",
   "metadata": {},
   "source": [
    "### Color Spaces"
   ]
  },
  {
   "cell_type": "code",
   "execution_count": null,
   "id": "d693ecd1",
   "metadata": {
    "scrolled": true
   },
   "outputs": [],
   "source": [
    "import cv2 as cv\n",
    "import  matplotlib.pyplot as plt\n",
    "img = cv.imread('Images/flowers.jpg')\n",
    "img = img[:750, :]\n",
    "# BGR to grayscale\n",
    "gray  = cv.cvtColor(img, cv.COLOR_BGR2GRAY)\n",
    "#cv.imshow('Gray', gray)\n",
    "# BGR to HSV\n",
    "hsv = cv.cvtColor(img,cv.COLOR_BGR2HSV)\n",
    "#cv.imshow('HSV', hsv)\n",
    "# BGR to L*A*B\n",
    "lab = cv.cvtColor(img, cv.COLOR_BGR2LAB)\n",
    "#cv.imshow('L*a*b', lab)\n",
    "#cv.imshow('Flowers', img)\n",
    "#plt.imshow(img)\n",
    "# BGR to RGB\n",
    "rgb = cv.cvtColor(img, cv.COLOR_BGR2RGB)\n",
    "cv.imshow('RGB',rgb )\n",
    "plt.imshow(rgb)\n",
    "plt.show()\n",
    "# HSV to BGR\n",
    "bgr = cv.cvtColor(hsv, cv.COLOR_HSV2BGR)\n",
    "cv.imshow(\"BGR\", bgr)\n",
    "cv.waitKey(0)\n",
    "'''In OpenCV the default is BGR format but in other framework it\n",
    "is RGB, inversion of BGR'''\n"
   ]
  },
  {
   "cell_type": "markdown",
   "id": "58a1a2d4",
   "metadata": {},
   "source": [
    "### Color Channels"
   ]
  },
  {
   "cell_type": "code",
   "execution_count": null,
   "id": "b4093bfa",
   "metadata": {},
   "outputs": [],
   "source": [
    "import cv2 as cv\n",
    "import numpy  as np\n",
    "img = cv.imread(\"Images/flowers.jpg\")\n",
    "# Cropping the image\n",
    "img = img[:750, :]\n",
    "blank = np.zeros(img.shape[:2], dtype = 'uint8')\n",
    "cv.imshow('Flowers', img)\n",
    "# Splitting the three colour channels\n",
    "b, g, r = cv.split(img)\n",
    "blue = cv.merge([b, blank, blank])\n",
    "green = cv.merge([ blank, g,blank])\n",
    "red = cv.merge([blank, blank, r])\n",
    "\n",
    "cv.imshow('Blue', blue)\n",
    "cv.imshow('Green', green)\n",
    "cv.imshow('Read', red)\n",
    "#print(img.shape)\n",
    "#print(b.shape)\n",
    "#print(g.shape)\n",
    "#print(r.shape)\n",
    "merged = cv.merge([r,b,r])\n",
    "cv.imshow('Merged', merged)\n",
    "cv.waitKey(0)"
   ]
  },
  {
   "cell_type": "markdown",
   "id": "ed96d5fd",
   "metadata": {},
   "source": [
    "### Blurring Techniques"
   ]
  },
  {
   "cell_type": "code",
   "execution_count": null,
   "id": "db196aed",
   "metadata": {},
   "outputs": [],
   "source": [
    "import cv2 as cv\n",
    "img = cv.imread(\"Images/food.jpg\")\n",
    "cv.imshow(\"Food\", img)\n",
    "# Averaging method\n",
    "average = cv.blur(img, (7,7))\n",
    "cv.imshow(\"Average blur\", average)\n",
    "# Gaussian blur\n",
    "gaussian = cv.GaussianBlur(img, (7,7), 20)\n",
    "cv.imshow(\"Gaussian Blur\", gaussian)\n",
    "# Median Blur\n",
    "median = cv.medianBlur(img, 3)\n",
    "cv.imshow(\"Median blur\", median)\n",
    "# Bilateral Blurring\n",
    "bilateral =cv.bilateralFilter(img, 5, 15, 15)\n",
    "cv.imshow(\"Bileral\", bilateral)\n",
    "cv.waitKey(0)"
   ]
  },
  {
   "cell_type": "markdown",
   "id": "2c312c58",
   "metadata": {},
   "source": [
    "### Bitwise Operations"
   ]
  },
  {
   "cell_type": "code",
   "execution_count": null,
   "id": "3ae695d1",
   "metadata": {},
   "outputs": [],
   "source": [
    "import cv2 as cv\n",
    "import numpy as np\n",
    "blank = np.zeros((400,400), dtype = 'uint8')\n",
    "rectangle = cv.rectangle(blank.copy(), (100,88), (363,350), 255, -1)\n",
    "circle = cv.circle (blank.copy(), (200,200), 150, 255, -1)\n",
    "cv.imshow(\"Retangle\", rectangle)\n",
    "cv.imshow(\"Circle\", circle)\n",
    "# Bitwise AND\n",
    "bitwise_and = cv.bitwise_and(rectangle, circle)\n",
    "cv.imshow(\"Bitwise AND\", bitwise_and)\n",
    "# bitwise OR\n",
    "bitwise_or = cv.bitwise_or(rectangle, circle)\n",
    "cv.imshow(\"Bitwise OR\", bitwise_or)\n",
    "# bitwise XOR -> Non-intersecting region\n",
    "bitwise_xor = cv.bitwise_xor(rectangle,circle)\n",
    "cv.imshow(\"Bitwise_xor\", bitwise_xor)\n",
    "# bitwise NOT -> Inverse the binary colour\n",
    "bitwise_not = cv.bitwise_not(rectangle)\n",
    "cv.imshow(\"Not Rectangle\", bitwise_not)\n",
    "cv.waitKey(0)"
   ]
  },
  {
   "cell_type": "markdown",
   "id": "bc1c28b6",
   "metadata": {},
   "source": [
    "### Masking"
   ]
  },
  {
   "cell_type": "code",
   "execution_count": null,
   "id": "682463a1",
   "metadata": {},
   "outputs": [],
   "source": [
    "import cv2 as cv\n",
    "import numpy as np\n",
    "img = cv.imread(\"Images/food.jpg\")\n",
    "cv.imshow(\"Food\", img)\n",
    "blank = np.zeros(img.shape[:2], dtype = 'uint8')\n",
    "cv.imshow(\"Blank\", blank)\n",
    "mask = cv.circle(blank, (img.shape[1]//2, img.shape[0]//2), 100, 255, -1)\n",
    "cv.imshow(\"Mask\", mask)\n",
    "masked_img = cv.bitwise_and(img, img, mask = mask)\n",
    "cv.imshow(\"Mask Image\", masked_img)\n",
    "cv.waitKey(0)"
   ]
  },
  {
   "cell_type": "markdown",
   "id": "63b16277",
   "metadata": {},
   "source": [
    "### Computing Histogram"
   ]
  },
  {
   "cell_type": "code",
   "execution_count": 9,
   "id": "dc79fc01",
   "metadata": {
    "scrolled": true
   },
   "outputs": [
    {
     "data": {
      "image/png": "[encoded data removed]",
      "text/plain": [
       "<Figure size 432x288 with 1 Axes>"
      ]
     },
     "metadata": {
      "needs_background": "light"
     },
     "output_type": "display_data"
    },
    {
     "data": {
      "text/plain": [
       "-1"
      ]
     },
     "execution_count": 9,
     "metadata": {},
     "output_type": "execute_result"
    }
   ],
   "source": [
    "import cv2 as cv\n",
    "import matplotlib.pyplot as plt\n",
    "import numpy as np\n",
    "img = cv.imread(\"Images/flowers.jpg\")\n",
    "img = img[:750, :]\n",
    "cv.imshow(\"Flowers\", img)\n",
    "blank = np.zeros(img.shape[:2], dtype = 'uint8')\n",
    "circle = cv.circle (blank, (img.shape[1] //2, img.shape[0]//2), 100,255, -1)\n",
    "# compute histogram of gray image\n",
    "gray = cv.cvtColor(img, cv.COLOR_BGR2GRAY)\n",
    "mask = cv.bitwise_and(gray, circle)\n",
    "cv.imshow (\"Mask\", mask)\n",
    "#gray = cv.GaussianBlur(gray, (7,7),0)\n",
    "cv.imshow(\"Gray\", gray)\n",
    "gray_hist = cv.calcHist([gray], [0], mask, [256], [0, 256] )\n",
    "plt.figure()\n",
    "plt.title(\"Grayscale histogram\")\n",
    "plt.xlabel(\"Bins\")\n",
    "plt.ylabel(\" # of pixels\")\n",
    "plt.plot(gray_hist)\n",
    "plt.xlim([0,256])\n",
    "plt.savefig(\"grayscale.jpg\")\n",
    "plt.show()\n",
    "cv.waitKey(0)"
   ]
  },
  {
   "cell_type": "code",
   "execution_count": 17,
   "id": "f7c5e210",
   "metadata": {},
   "outputs": [
    {
     "data": {
      "text/plain": [
       "-1"
      ]
     },
     "execution_count": 17,
     "metadata": {},
     "output_type": "execute_result"
    },
    {
     "data": {
      "image/png": "[encoded data removed]",
      "text/plain": [
       "<Figure size 432x288 with 1 Axes>"
      ]
     },
     "metadata": {
      "needs_background": "light"
     },
     "output_type": "display_data"
    }
   ],
   "source": [
    "import cv2 as cv\n",
    "import numpy as np\n",
    "import matplotlib.pyplot as plt\n",
    "img = cv.imread(\"Images/flowers.jpg\")\n",
    "img = img[:750, :]\n",
    "blank = np.zeros(img.shape[:2], dtype = 'uint8')\n",
    "mask = cv.circle (blank, (img.shape[1] //2, img.shape[0]//2), 100,255, -1)\n",
    "masked = cv.bitwise_and(img, img, mask = mask)\n",
    "cv.imshow(\"Mask\", masked)\n",
    "# Colour histogram\n",
    "colors = ('b', 'g', 'r')\n",
    "plt.figure()\n",
    "plt.title(\"Colour histogram\")\n",
    "plt.xlabel(\"Bins\")\n",
    "plt.ylabel(\" # of pixels\")\n",
    "for i, col in enumerate(colors):\n",
    "    hist = cv.calcHist([img], [i], mask, [256], [0,256])\n",
    "    cv.calcHist()\n",
    "    plt.plot(hist, color =  col)\n",
    "    plt.xlim([0,256])\n",
    "cv.waitKey(0)"
   ]
  },
  {
   "cell_type": "markdown",
   "id": "4e142ced",
   "metadata": {},
   "source": [
    "### Thresholding"
   ]
  },
  {
   "cell_type": "code",
   "execution_count": 16,
   "id": "63e5331b",
   "metadata": {},
   "outputs": [
    {
     "data": {
      "text/plain": [
       "-1"
      ]
     },
     "execution_count": 16,
     "metadata": {},
     "output_type": "execute_result"
    }
   ],
   "source": [
    "import cv2 as cv\n",
    "img = cv.imread(\"Images/city.jpg\")\n",
    "cv.imshow(\"City\", img)\n",
    "gray = cv.cvtColor(img, cv.COLOR_BGR2GRAY)\n",
    "#cv.imshow(\"Gray\", gray)\n",
    "# Simple threshhold\n",
    "threshold, thresh = cv.threshold(gray, 160, 255, cv.THRESH_BINARY)\n",
    "cv.imshow(\"Simple Thresholded\", thresh)\n",
    "threshold, thresh_inv = cv.threshold(gray, 160, 255, cv.THRESH_BINARY_INV)\n",
    "#cv.imshow(\"Simple Thresholded invert\", thresh_inv)\n",
    "# Adaptive Thresholding\n",
    "#adaptive_thresh = cv.adaptiveThreshold(gray, 255, cv.ADAPTIVE_THRESH_MEAN_C, cv.THRESH_BINARY, 15, 3)\n",
    "adaptive_thresh = cv.adaptiveThreshold(gray, 255, cv.ADAPTIVE_THRESH_GAUSSIAN_C, cv.THRESH_BINARY, 15, 3)\n",
    "cv.imshow(\"Adaptive thresholding\", adaptive_thresh)\n",
    "cv.waitKey(0)"
   ]
  },
  {
   "cell_type": "markdown",
   "id": "09670d63",
   "metadata": {},
   "source": [
    "### Edge Detection"
   ]
  },
  {
   "cell_type": "code",
   "execution_count": 26,
   "id": "baa7cbed",
   "metadata": {},
   "outputs": [
    {
     "data": {
      "text/plain": [
       "-1"
      ]
     },
     "execution_count": 26,
     "metadata": {},
     "output_type": "execute_result"
    }
   ],
   "source": [
    "import cv2 as cv\n",
    "import numpy as np\n",
    "img = cv.imread(\"Images/city.jpg\")\n",
    "cv.imshow(\"City\", img)\n",
    "gray = cv.cvtColor(img, cv.COLOR_BGR2GRAY)\n",
    "# Laplacian method\n",
    "lap = cv.Laplacian(gray, cv.CV_64F)\n",
    "lap = np.uint8(np.absolute(lap))\n",
    "cv.imshow(\"Laplacian\", lap)\n",
    "# Sobel method\n",
    "sobelx = cv.Sobel(gray, cv.CV_64F, 1, 0)\n",
    "sobely = cv.Sobel(gray, cv.CV_64F, 0, 1)\n",
    "cv.imshow(\"Sobel x\", sobelx)\n",
    "cv.imshow(\"Sobel y\", sobely)\n",
    "combined_sobel = cv.bitwise_or(sobelx, sobely)\n",
    "cv.imshow(\"Combined Sobel\", combined_sobel)\n",
    "# Canny Edge detector\n",
    "canny = cv.Canny(gray, 150, 175)\n",
    "cv.imshow(\"Canny Edge Detection\", canny)\n",
    "cv.waitKey(0)"
   ]
  }
 ],
 "metadata": {
  "kernelspec": {
   "display_name": "Python 3 (ipykernel)",
   "language": "python",
   "name": "python3"
  },
  "language_info": {
   "codemirror_mode": {
    "name": "ipython",
    "version": 3
   },
   "file_extension": ".py",
   "mimetype": "text/x-python",
   "name": "python",
   "nbconvert_exporter": "python",
   "pygments_lexer": "ipython3",
   "version": "3.8.5"
  }
 },
 "nbformat": 4,
 "nbformat_minor": 5
}
