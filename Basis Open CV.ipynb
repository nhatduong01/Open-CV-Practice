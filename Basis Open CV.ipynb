{
 "cells": [
  {
   "cell_type": "markdown",
   "id": "45584a15",
   "metadata": {},
   "source": [
    "### Reading Image"
   ]
  },
  {
   "cell_type": "code",
   "execution_count": null,
   "id": "2c0bb0c0",
   "metadata": {},
   "outputs": [],
   "source": [
    "import cv2 as cv\n",
    "image = cv.imread('Images/ThNguyen.jpg')\n",
    "cv.imshow('My Girlfriend', image)\n",
    "cv.waitKey(0)"
   ]
  },
  {
   "cell_type": "markdown",
   "id": "41ea9ab8",
   "metadata": {},
   "source": [
    "### Reading Video"
   ]
  },
  {
   "cell_type": "code",
   "execution_count": 4,
   "id": "70b26255",
   "metadata": {},
   "outputs": [],
   "source": [
    "capture = cv.VideoCapture('Video/leaf.mp4')\n",
    "while True:\n",
    "    isTrue, frame = capture.read()\n",
    "    cv.imshow('Leaf', frame)\n",
    "    if cv.waitKey(20) & 0xFF == ord('d'):\n",
    "        break\n",
    "capture.release()\n",
    "cv.destroyAllWindows()"
   ]
  },
  {
   "cell_type": "markdown",
   "id": "cfd8ac3c",
   "metadata": {},
   "source": [
    "### Rescale and Resolution"
   ]
  },
  {
   "cell_type": "code",
   "execution_count": 2,
   "id": "4bb65036",
   "metadata": {},
   "outputs": [],
   "source": [
    "import cv2 as cv\n",
    "def rescaleFrame(frame, scale_value=0.5):\n",
    "    height = int(frame.shape[0]*scale_value)\n",
    "    width = int(frame.shape[1]*scale_value)\n",
    "    dimensions = (height, width)\n",
    "    return cv.resize(frame, dimensions, interpolation=cv.INTER_AREA)\n",
    "capture = cv.VideoCapture('Video/leaf.mp4')\n",
    "while True:\n",
    "    isTrue, frame = capture.read()\n",
    "    frame_resize = rescaleFrame(frame,0.2)\n",
    "    cv.imshow('Leaf', frame)\n",
    "    cv.imshow('Leaf_resize', frame_resize)\n",
    "    if cv.waitKey(20) & 0xFF == ord('d'):\n",
    "        break\n",
    "capture.release()\n",
    "cv.destroyAllWindows()"
   ]
  },
  {
   "cell_type": "markdown",
   "id": "39c1b3bf",
   "metadata": {},
   "source": [
    "### Draw shapes and putting text"
   ]
  },
  {
   "cell_type": "code",
   "execution_count": 25,
   "id": "097acbbc",
   "metadata": {},
   "outputs": [
    {
     "data": {
      "text/plain": [
       "-1"
      ]
     },
     "execution_count": 25,
     "metadata": {},
     "output_type": "execute_result"
    }
   ],
   "source": [
    "import cv2 as cv\n",
    "import numpy as np\n",
    "# Create blank image\n",
    "blank = np.zeros((500,500,3), dtype = 'uint8')\n",
    "#cv.imshow('Blank', blank)\n",
    "blank[:] = (0,0,255)\n",
    "#cv.imshow('Coloured', blank)\n",
    "# draw a retangle\n",
    "#cv.rectangle(blank,(0,0), (500,250), (0,255,0), thickness =cv.FILLED )\n",
    "#cv.imshow('Rectangle', blank)\n",
    "# draw a cirvle\n",
    "cv.circle(blank, (250,250), 40, (0,255,0), thickness =-1)\n",
    "#cv.imshow('Circle', blank)\n",
    "# draw a line\n",
    "cv.line(blank, (0,0), (500,500),(0,255,255), thickness = 3)\n",
    "cv.imshow('Line', blank)\n",
    "# Write Text on an image\n",
    "cv.putText(blank, 'I created this picture', (255,255),cv.FONT_HERSHEY_SIMPLEX,0.6,(255,255,0),thickness =2)\n",
    "cv.imshow('Text', blank)\n",
    "cv.waitKey(0)\n"
   ]
  },
  {
   "cell_type": "markdown",
   "id": "0e9c49e8",
   "metadata": {},
   "source": [
    "### Five essential functions in Open CV"
   ]
  },
  {
   "cell_type": "code",
   "execution_count": 2,
   "id": "b9b52b19",
   "metadata": {},
   "outputs": [
    {
     "data": {
      "text/plain": [
       "-1"
      ]
     },
     "execution_count": 2,
     "metadata": {},
     "output_type": "execute_result"
    }
   ],
   "source": [
    "import cv2 as cv\n",
    "img = cv.imread('Images/road.jpg')\n",
    "cv.imshow('Road', img)\n",
    "# Converting to grayscale\n",
    "gray = cv.cvtColor(img,cv.COLOR_BGR2GRAY)\n",
    "#cv.imshow('Grey', gray)\n",
    "# Blur an image\n",
    "blur = cv.GaussianBlur(img, (7,7), cv.BORDER_DEFAULT)\n",
    "#cv.imshow('Blur', blur)\n",
    "# Edge Cascade\n",
    "# We are using canny edge detector\n",
    "canny = cv.Canny(img,125,175)\n",
    "#cv.imshow(\"Canny\", canny)\n",
    "# Dilating the Image\n",
    "dilated = cv.dilate(canny, (7,7),iterations = 3)\n",
    "#cv.imshow('Dilated', dilated)\n",
    "# Eroding the IMAGE\n",
    "eroded = cv.erode(dilated, (3,3), iterations = 1)\n",
    "#cv.imshow('Eroded', eroded)\n",
    "# Resize an Image\n",
    "resized = cv.resize(img , (500,500))\n",
    "cv.imshow('Resized road', resized)\n",
    "# Cropping\n",
    "# We use the property that image are array of pixels\n",
    "cropped = img[50:200, 200:500]\n",
    "cv.imshow('Cropped', cropped)\n",
    "cv.waitKey(0)"
   ]
  },
  {
   "cell_type": "markdown",
   "id": "4c4f0e72",
   "metadata": {},
   "source": [
    "### Image transformations"
   ]
  },
  {
   "cell_type": "code",
   "execution_count": 7,
   "id": "aafaaa72",
   "metadata": {},
   "outputs": [
    {
     "data": {
      "text/plain": [
       "-1"
      ]
     },
     "execution_count": 7,
     "metadata": {},
     "output_type": "execute_result"
    }
   ],
   "source": [
    "import cv2 as cv\n",
    "import numpy as np\n",
    "img = cv.imread('Images/cake.jpg')\n",
    "# translation\n",
    "# shift among x-axis and y-axis\n",
    "def translate(image,x,y):\n",
    "    transMat = np.float32([[1,0,x],[0,1,y]])\n",
    "    dimensions = (img.shape[1], img.shape[0])\n",
    "    return cv.warpAffine(img,transMat,dimensions)\n",
    "translated = translate(img,100,-200)\n",
    "cv.imshow(\"Translated\", translated)\n",
    "# Rotation\n",
    "def rotate(image, angle, rotation_point = None):\n",
    "    (height, width) = image.shape[:2]\n",
    "    if rotation_point == None:\n",
    "        rotation_point = (width//2, height //2)\n",
    "    rotMat = cv.getRotationMatrix2D(rotation_point, angle, 1.0)\n",
    "    dimensions = (width, height)\n",
    "    return cv.warpAffine(img, rotMat, dimensions)\n",
    "rotated = rotate (img, 45)\n",
    "#cv.imshow(\"Rotated\", rotated)\n",
    "# Flipping\n",
    "flipped = cv.flip(img, 1)\n",
    "cv.imshow('Flipped', flipped)\n",
    "cv.waitKey(0)"
   ]
  },
  {
   "cell_type": "markdown",
   "id": "65869b3b",
   "metadata": {},
   "source": [
    "### Identify contours"
   ]
  },
  {
   "cell_type": "code",
   "execution_count": 23,
   "id": "cca4e7bc",
   "metadata": {},
   "outputs": [
    {
     "name": "stdout",
     "output_type": "stream",
     "text": [
      "1413 Founded\n"
     ]
    },
    {
     "data": {
      "text/plain": [
       "-1"
      ]
     },
     "execution_count": 23,
     "metadata": {},
     "output_type": "execute_result"
    }
   ],
   "source": [
    "import cv2 as cv\n",
    "import numpy as np\n",
    "img = cv.imread('Images/cake.jpg')\n",
    "blank = np.zeros(img.shape, dtype = 'uint8')\n",
    "cv.imshow(\"Blank\", blank)\n",
    "#  We first convert to gray scale\n",
    "grey = cv.cvtColor(img,cv.COLOR_BGR2GRAY)\n",
    "#cv.imshow('grey', grey)\n",
    "#blur = cv.GaussianBlur(grey, (5,5), cv.BORDER_DEFAULT)\n",
    "#cv.imshow(\"Blur\", blur)\n",
    "# We use Canny Edge detector\n",
    "canny = cv.Canny(blur,125,127)\n",
    "#cv.imshow(\"Canny\", canny)\n",
    "# We can use another method using Thresdhold function\n",
    "ret, thresh = cv.threshold(grey, 125, 255, cv.THRESH_BINARY)\n",
    "# We binarize the image\n",
    "contours, hierarchies = cv.findContours(thresh, cv.RETR_LIST, cv.CHAIN_APPROX_SIMPLE)\n",
    "print(f'{len(contours)} Founded')\n",
    "cv.imshow(\"Thresh\", thresh)\n",
    "cv.drawContours(blank, contours, -1, (0,0,255), thickness =2)\n",
    "cv.imshow(\"Contours Draw\", blank)\n",
    "cv.waitKey(0)"
   ]
  },
  {
   "cell_type": "code",
   "execution_count": 9,
   "id": "d6ba9fa4",
   "metadata": {},
   "outputs": [
    {
     "name": "stdout",
     "output_type": "stream",
     "text": [
      "(960, 640, 3)\n"
     ]
    },
    {
     "data": {
      "text/plain": [
       "-1"
      ]
     },
     "execution_count": 9,
     "metadata": {},
     "output_type": "execute_result"
    }
   ],
   "source": [
    "import numpy as np\n",
    "import cv2 as cv\n",
    "img = cv.imread('Images/cake.jpg')\n",
    "cv.imshow('Cake', img)\n",
    "dimensions = img.shape\n",
    "print(dimensions)\n",
    "cv.imread()\n",
    "cv.waitKey(0)"
   ]
  }
 ],
 "metadata": {
  "kernelspec": {
   "display_name": "Python 3 (ipykernel)",
   "language": "python",
   "name": "python3"
  },
  "language_info": {
   "codemirror_mode": {
    "name": "ipython",
    "version": 3
   },
   "file_extension": ".py",
   "mimetype": "text/x-python",
   "name": "python",
   "nbconvert_exporter": "python",
   "pygments_lexer": "ipython3",
   "version": "3.8.5"
  }
 },
 "nbformat": 4,
 "nbformat_minor": 5
}
